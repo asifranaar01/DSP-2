{
 "cells": [
  {
   "cell_type": "code",
   "execution_count": 1,
   "metadata": {},
   "outputs": [],
   "source": [
    "# Importing packages\n",
    "import pandas as pd\n",
    "import numpy as np\n",
    "import matplotlib as mpl\n",
    "from datetime import datetime\n",
    "from pandas import DataFrame\n",
    "import seaborn as sns\n",
    "import matplotlib.pyplot as plt\n",
    "import math\n",
    "from geopy.distance import geodesic\n",
    "import haversine as hs"
   ]
  },
  {
   "cell_type": "code",
   "execution_count": 2,
   "metadata": {},
   "outputs": [],
   "source": [
    "import glob\n",
    "files=glob.glob('C:/Users/user/Desktop/DSP-2/Assignment-2/New-folder/*.txt')\n",
    "df_list = []\n",
    "for file in files:\n",
    "    df_list.append(pd.read_csv(file, header= None, sep=','))\n",
    "\n",
    "big_df = pd.concat(df_list, ignore_index=True)\n",
    "big_df.columns =['Taxi_ID','Time_Stamp','Longitude','Latitude']\n",
    "big_df.to_csv(\"Combined_Dataset.csv\",  index=False)"
   ]
  },
  {
   "cell_type": "code",
   "execution_count": 3,
   "metadata": {},
   "outputs": [],
   "source": [
    "big_df.to_csv(\"Combined_Dataset.csv\",  index=False)"
   ]
  },
  {
   "cell_type": "code",
   "execution_count": 4,
   "metadata": {},
   "outputs": [],
   "source": [
    "# Importing the csv data files \n",
    "data = pd.read_csv('Combined_Dataset.csv',error_bad_lines=False, warn_bad_lines=True)"
   ]
  },
  {
   "cell_type": "code",
   "execution_count": 5,
   "metadata": {},
   "outputs": [
    {
     "name": "stdout",
     "output_type": "stream",
     "text": [
      "<class 'pandas.core.frame.DataFrame'>\n",
      "RangeIndex: 176424 entries, 0 to 176423\n",
      "Data columns (total 4 columns):\n",
      " #   Column      Non-Null Count   Dtype  \n",
      "---  ------      --------------   -----  \n",
      " 0   Taxi_ID     176424 non-null  int64  \n",
      " 1   Time_Stamp  176424 non-null  object \n",
      " 2   Longitude   176424 non-null  float64\n",
      " 3   Latitude    176424 non-null  float64\n",
      "dtypes: float64(2), int64(1), object(1)\n",
      "memory usage: 5.4+ MB\n"
     ]
    }
   ],
   "source": [
    "data.info()"
   ]
  },
  {
   "cell_type": "code",
   "execution_count": 6,
   "metadata": {},
   "outputs": [],
   "source": [
    "data['Time_Stamp'] = pd.to_datetime(data['Time_Stamp'])"
   ]
  },
  {
   "cell_type": "code",
   "execution_count": 7,
   "metadata": {},
   "outputs": [
    {
     "data": {
      "text/html": [
       "<div>\n",
       "<style scoped>\n",
       "    .dataframe tbody tr th:only-of-type {\n",
       "        vertical-align: middle;\n",
       "    }\n",
       "\n",
       "    .dataframe tbody tr th {\n",
       "        vertical-align: top;\n",
       "    }\n",
       "\n",
       "    .dataframe thead th {\n",
       "        text-align: right;\n",
       "    }\n",
       "</style>\n",
       "<table border=\"1\" class=\"dataframe\">\n",
       "  <thead>\n",
       "    <tr style=\"text-align: right;\">\n",
       "      <th></th>\n",
       "      <th>Taxi_ID</th>\n",
       "      <th>Time_Stamp</th>\n",
       "      <th>Longitude</th>\n",
       "      <th>Latitude</th>\n",
       "    </tr>\n",
       "  </thead>\n",
       "  <tbody>\n",
       "    <tr>\n",
       "      <th>0</th>\n",
       "      <td>10004</td>\n",
       "      <td>2008-02-03 09:21:37</td>\n",
       "      <td>116.58327</td>\n",
       "      <td>40.11703</td>\n",
       "    </tr>\n",
       "    <tr>\n",
       "      <th>1</th>\n",
       "      <td>10004</td>\n",
       "      <td>2008-02-04 02:35:46</td>\n",
       "      <td>116.48178</td>\n",
       "      <td>39.98753</td>\n",
       "    </tr>\n",
       "    <tr>\n",
       "      <th>2</th>\n",
       "      <td>10004</td>\n",
       "      <td>2008-02-04 19:57:44</td>\n",
       "      <td>116.34258</td>\n",
       "      <td>39.78857</td>\n",
       "    </tr>\n",
       "    <tr>\n",
       "      <th>3</th>\n",
       "      <td>10004</td>\n",
       "      <td>2008-02-04 19:57:46</td>\n",
       "      <td>116.34258</td>\n",
       "      <td>39.78857</td>\n",
       "    </tr>\n",
       "    <tr>\n",
       "      <th>4</th>\n",
       "      <td>10004</td>\n",
       "      <td>2008-02-05 20:12:11</td>\n",
       "      <td>116.42787</td>\n",
       "      <td>39.94505</td>\n",
       "    </tr>\n",
       "  </tbody>\n",
       "</table>\n",
       "</div>"
      ],
      "text/plain": [
       "   Taxi_ID          Time_Stamp  Longitude  Latitude\n",
       "0    10004 2008-02-03 09:21:37  116.58327  40.11703\n",
       "1    10004 2008-02-04 02:35:46  116.48178  39.98753\n",
       "2    10004 2008-02-04 19:57:44  116.34258  39.78857\n",
       "3    10004 2008-02-04 19:57:46  116.34258  39.78857\n",
       "4    10004 2008-02-05 20:12:11  116.42787  39.94505"
      ]
     },
     "execution_count": 7,
     "metadata": {},
     "output_type": "execute_result"
    }
   ],
   "source": [
    "data.head()"
   ]
  },
  {
   "cell_type": "code",
   "execution_count": 8,
   "metadata": {},
   "outputs": [
    {
     "data": {
      "text/plain": [
       "1106"
      ]
     },
     "execution_count": 8,
     "metadata": {},
     "output_type": "execute_result"
    }
   ],
   "source": [
    "len(data.Taxi_ID.unique())"
   ]
  },
  {
   "cell_type": "code",
   "execution_count": 9,
   "metadata": {},
   "outputs": [
    {
     "name": "stdout",
     "output_type": "stream",
     "text": [
      "<class 'pandas.core.frame.DataFrame'>\n",
      "Int64Index: 18198 entries, 22 to 176416\n",
      "Data columns (total 4 columns):\n",
      " #   Column      Non-Null Count  Dtype         \n",
      "---  ------      --------------  -----         \n",
      " 0   Taxi_ID     18198 non-null  int64         \n",
      " 1   Time_Stamp  18198 non-null  datetime64[ns]\n",
      " 2   Longitude   18198 non-null  float64       \n",
      " 3   Latitude    18198 non-null  float64       \n",
      "dtypes: datetime64[ns](1), float64(2), int64(1)\n",
      "memory usage: 710.9 KB\n"
     ]
    }
   ],
   "source": [
    "duplicates_df = data[data.duplicated()]\n",
    "duplicates_df.info()"
   ]
  },
  {
   "cell_type": "code",
   "execution_count": 10,
   "metadata": {},
   "outputs": [
    {
     "data": {
      "text/html": [
       "<div>\n",
       "<style scoped>\n",
       "    .dataframe tbody tr th:only-of-type {\n",
       "        vertical-align: middle;\n",
       "    }\n",
       "\n",
       "    .dataframe tbody tr th {\n",
       "        vertical-align: top;\n",
       "    }\n",
       "\n",
       "    .dataframe thead th {\n",
       "        text-align: right;\n",
       "    }\n",
       "</style>\n",
       "<table border=\"1\" class=\"dataframe\">\n",
       "  <thead>\n",
       "    <tr style=\"text-align: right;\">\n",
       "      <th></th>\n",
       "      <th>Taxi_ID</th>\n",
       "      <th>Time_Stamp</th>\n",
       "      <th>Longitude</th>\n",
       "      <th>Latitude</th>\n",
       "    </tr>\n",
       "  </thead>\n",
       "  <tbody>\n",
       "    <tr>\n",
       "      <th>43</th>\n",
       "      <td>10065</td>\n",
       "      <td>2008-02-03 02:30:44</td>\n",
       "      <td>116.43422</td>\n",
       "      <td>40.02313</td>\n",
       "    </tr>\n",
       "    <tr>\n",
       "      <th>44</th>\n",
       "      <td>10065</td>\n",
       "      <td>2008-02-03 02:30:44</td>\n",
       "      <td>116.43422</td>\n",
       "      <td>40.02313</td>\n",
       "    </tr>\n",
       "    <tr>\n",
       "      <th>45</th>\n",
       "      <td>10065</td>\n",
       "      <td>2008-02-03 02:30:44</td>\n",
       "      <td>116.43422</td>\n",
       "      <td>40.02313</td>\n",
       "    </tr>\n",
       "    <tr>\n",
       "      <th>46</th>\n",
       "      <td>10065</td>\n",
       "      <td>2008-02-03 02:30:44</td>\n",
       "      <td>116.43422</td>\n",
       "      <td>40.02313</td>\n",
       "    </tr>\n",
       "    <tr>\n",
       "      <th>47</th>\n",
       "      <td>10065</td>\n",
       "      <td>2008-02-03 02:30:44</td>\n",
       "      <td>116.43422</td>\n",
       "      <td>40.02313</td>\n",
       "    </tr>\n",
       "    <tr>\n",
       "      <th>...</th>\n",
       "      <td>...</td>\n",
       "      <td>...</td>\n",
       "      <td>...</td>\n",
       "      <td>...</td>\n",
       "    </tr>\n",
       "    <tr>\n",
       "      <th>233</th>\n",
       "      <td>10065</td>\n",
       "      <td>2008-02-06 03:45:53</td>\n",
       "      <td>116.43412</td>\n",
       "      <td>40.02302</td>\n",
       "    </tr>\n",
       "    <tr>\n",
       "      <th>234</th>\n",
       "      <td>10065</td>\n",
       "      <td>2008-02-06 03:45:53</td>\n",
       "      <td>116.43412</td>\n",
       "      <td>40.02302</td>\n",
       "    </tr>\n",
       "    <tr>\n",
       "      <th>249</th>\n",
       "      <td>10065</td>\n",
       "      <td>2008-02-06 11:02:18</td>\n",
       "      <td>116.42108</td>\n",
       "      <td>40.04218</td>\n",
       "    </tr>\n",
       "    <tr>\n",
       "      <th>254</th>\n",
       "      <td>10065</td>\n",
       "      <td>2008-02-06 11:31:17</td>\n",
       "      <td>116.41097</td>\n",
       "      <td>39.99792</td>\n",
       "    </tr>\n",
       "    <tr>\n",
       "      <th>260</th>\n",
       "      <td>10065</td>\n",
       "      <td>2008-02-07 10:09:24</td>\n",
       "      <td>116.43399</td>\n",
       "      <td>40.02319</td>\n",
       "    </tr>\n",
       "  </tbody>\n",
       "</table>\n",
       "<p>87 rows × 4 columns</p>\n",
       "</div>"
      ],
      "text/plain": [
       "     Taxi_ID          Time_Stamp  Longitude  Latitude\n",
       "43     10065 2008-02-03 02:30:44  116.43422  40.02313\n",
       "44     10065 2008-02-03 02:30:44  116.43422  40.02313\n",
       "45     10065 2008-02-03 02:30:44  116.43422  40.02313\n",
       "46     10065 2008-02-03 02:30:44  116.43422  40.02313\n",
       "47     10065 2008-02-03 02:30:44  116.43422  40.02313\n",
       "..       ...                 ...        ...       ...\n",
       "233    10065 2008-02-06 03:45:53  116.43412  40.02302\n",
       "234    10065 2008-02-06 03:45:53  116.43412  40.02302\n",
       "249    10065 2008-02-06 11:02:18  116.42108  40.04218\n",
       "254    10065 2008-02-06 11:31:17  116.41097  39.99792\n",
       "260    10065 2008-02-07 10:09:24  116.43399  40.02319\n",
       "\n",
       "[87 rows x 4 columns]"
      ]
     },
     "execution_count": 10,
     "metadata": {},
     "output_type": "execute_result"
    }
   ],
   "source": [
    "#duplicates_df.head()\n",
    "duplicates_df.loc[(duplicates_df['Taxi_ID'] == 10065)]"
   ]
  },
  {
   "cell_type": "code",
   "execution_count": 11,
   "metadata": {},
   "outputs": [
    {
     "data": {
      "text/plain": [
       "Taxi_ID\n",
       "7         20\n",
       "13        11\n",
       "36        17\n",
       "37        19\n",
       "40         1\n",
       "        ... \n",
       "10320    144\n",
       "10325     29\n",
       "10342      3\n",
       "10350      2\n",
       "10355    175\n",
       "Name: Taxi_ID, Length: 780, dtype: int64"
      ]
     },
     "execution_count": 11,
     "metadata": {},
     "output_type": "execute_result"
    }
   ],
   "source": [
    "count_dup_df = duplicates_df.groupby('Taxi_ID').Taxi_ID.count()\n",
    "count_dup_df"
   ]
  },
  {
   "cell_type": "code",
   "execution_count": 12,
   "metadata": {},
   "outputs": [
    {
     "data": {
      "text/html": [
       "<div>\n",
       "<style scoped>\n",
       "    .dataframe tbody tr th:only-of-type {\n",
       "        vertical-align: middle;\n",
       "    }\n",
       "\n",
       "    .dataframe tbody tr th {\n",
       "        vertical-align: top;\n",
       "    }\n",
       "\n",
       "    .dataframe thead th {\n",
       "        text-align: right;\n",
       "    }\n",
       "</style>\n",
       "<table border=\"1\" class=\"dataframe\">\n",
       "  <thead>\n",
       "    <tr style=\"text-align: right;\">\n",
       "      <th></th>\n",
       "      <th>Taxi_ID</th>\n",
       "      <th>count</th>\n",
       "    </tr>\n",
       "  </thead>\n",
       "  <tbody>\n",
       "    <tr>\n",
       "      <th>16</th>\n",
       "      <td>231</td>\n",
       "      <td>268</td>\n",
       "    </tr>\n",
       "    <tr>\n",
       "      <th>774</th>\n",
       "      <td>10305</td>\n",
       "      <td>239</td>\n",
       "    </tr>\n",
       "    <tr>\n",
       "      <th>150</th>\n",
       "      <td>1875</td>\n",
       "      <td>220</td>\n",
       "    </tr>\n",
       "    <tr>\n",
       "      <th>77</th>\n",
       "      <td>900</td>\n",
       "      <td>218</td>\n",
       "    </tr>\n",
       "    <tr>\n",
       "      <th>543</th>\n",
       "      <td>6435</td>\n",
       "      <td>217</td>\n",
       "    </tr>\n",
       "  </tbody>\n",
       "</table>\n",
       "</div>"
      ],
      "text/plain": [
       "     Taxi_ID  count\n",
       "16       231    268\n",
       "774    10305    239\n",
       "150     1875    220\n",
       "77       900    218\n",
       "543     6435    217"
      ]
     },
     "execution_count": 12,
     "metadata": {},
     "output_type": "execute_result"
    }
   ],
   "source": [
    "count_dup_df = pd.DataFrame({'count' : duplicates_df.groupby( [ \"Taxi_ID\"] ).size()}).reset_index() \n",
    "count_dup_df = count_dup_df.sort_values(by='count', ascending = False)\n",
    "count_dup_df.head()\n"
   ]
  },
  {
   "cell_type": "code",
   "execution_count": 13,
   "metadata": {},
   "outputs": [
    {
     "data": {
      "text/plain": [
       "array([[<matplotlib.axes._subplots.AxesSubplot object at 0x00000163AF8B1308>,\n",
       "        <matplotlib.axes._subplots.AxesSubplot object at 0x00000163B0108988>]],\n",
       "      dtype=object)"
      ]
     },
     "execution_count": 13,
     "metadata": {},
     "output_type": "execute_result"
    },
    {
     "data": {
      "image/png": "[encoded data removed]",
      "text/plain": [
       "<Figure size 432x288 with 2 Axes>"
      ]
     },
     "metadata": {
      "needs_background": "light"
     },
     "output_type": "display_data"
    }
   ],
   "source": [
    "#count_dup_df[\"Taxi_ID\"].plot.bar()\n",
    "#plt.show()\n",
    "count_dup_df.hist()"
   ]
  },
  {
   "cell_type": "code",
   "execution_count": 14,
   "metadata": {},
   "outputs": [
    {
     "name": "stdout",
     "output_type": "stream",
     "text": [
      "<class 'pandas.core.frame.DataFrame'>\n",
      "Int64Index: 158226 entries, 0 to 176423\n",
      "Data columns (total 4 columns):\n",
      " #   Column      Non-Null Count   Dtype         \n",
      "---  ------      --------------   -----         \n",
      " 0   Taxi_ID     158226 non-null  int64         \n",
      " 1   Time_Stamp  158226 non-null  datetime64[ns]\n",
      " 2   Longitude   158226 non-null  float64       \n",
      " 3   Latitude    158226 non-null  float64       \n",
      "dtypes: datetime64[ns](1), float64(2), int64(1)\n",
      "memory usage: 6.0 MB\n"
     ]
    }
   ],
   "source": [
    "unique_df = data.drop_duplicates(keep='first')\n",
    "unique_df.info()"
   ]
  },
  {
   "cell_type": "code",
   "execution_count": 15,
   "metadata": {},
   "outputs": [
    {
     "data": {
      "text/plain": [
       "1106"
      ]
     },
     "execution_count": 15,
     "metadata": {},
     "output_type": "execute_result"
    }
   ],
   "source": [
    "len(unique_df.Taxi_ID.unique())"
   ]
  },
  {
   "cell_type": "code",
   "execution_count": 16,
   "metadata": {},
   "outputs": [
    {
     "data": {
      "text/html": [
       "<div>\n",
       "<style scoped>\n",
       "    .dataframe tbody tr th:only-of-type {\n",
       "        vertical-align: middle;\n",
       "    }\n",
       "\n",
       "    .dataframe tbody tr th {\n",
       "        vertical-align: top;\n",
       "    }\n",
       "\n",
       "    .dataframe thead th {\n",
       "        text-align: right;\n",
       "    }\n",
       "</style>\n",
       "<table border=\"1\" class=\"dataframe\">\n",
       "  <thead>\n",
       "    <tr style=\"text-align: right;\">\n",
       "      <th></th>\n",
       "      <th>Taxi_ID</th>\n",
       "      <th>Glitch</th>\n",
       "    </tr>\n",
       "  </thead>\n",
       "  <tbody>\n",
       "    <tr>\n",
       "      <th>0</th>\n",
       "      <td>10004</td>\n",
       "      <td>False</td>\n",
       "    </tr>\n",
       "    <tr>\n",
       "      <th>1</th>\n",
       "      <td>10043</td>\n",
       "      <td>False</td>\n",
       "    </tr>\n",
       "    <tr>\n",
       "      <th>2</th>\n",
       "      <td>10057</td>\n",
       "      <td>False</td>\n",
       "    </tr>\n",
       "    <tr>\n",
       "      <th>3</th>\n",
       "      <td>10065</td>\n",
       "      <td>False</td>\n",
       "    </tr>\n",
       "    <tr>\n",
       "      <th>4</th>\n",
       "      <td>101</td>\n",
       "      <td>False</td>\n",
       "    </tr>\n",
       "  </tbody>\n",
       "</table>\n",
       "</div>"
      ],
      "text/plain": [
       "   Taxi_ID  Glitch\n",
       "0    10004   False\n",
       "1    10043   False\n",
       "2    10057   False\n",
       "3    10065   False\n",
       "4      101   False"
      ]
     },
     "execution_count": 16,
     "metadata": {},
     "output_type": "execute_result"
    }
   ],
   "source": [
    "users = unique_df.Taxi_ID.unique()\n",
    "df_user = DataFrame(users,columns=['Taxi_ID'])\n",
    "df_user['Glitch'] = False\n",
    "df_user.head()"
   ]
  },
  {
   "cell_type": "code",
   "execution_count": 17,
   "metadata": {},
   "outputs": [
    {
     "name": "stderr",
     "output_type": "stream",
     "text": [
      "C:\\Users\\user\\anaconda3New\\lib\\site-packages\\ipykernel_launcher.py:4: SettingWithCopyWarning: \n",
      "A value is trying to be set on a copy of a slice from a DataFrame.\n",
      "Try using .loc[row_indexer,col_indexer] = value instead\n",
      "\n",
      "See the caveats in the documentation: https://pandas.pydata.org/pandas-docs/stable/user_guide/indexing.html#returning-a-view-versus-a-copy\n",
      "  after removing the cwd from sys.path.\n"
     ]
    }
   ],
   "source": [
    "has_glitch = True\n",
    "for i in range(len(users)):\n",
    "    temp = unique_df.loc[(unique_df['Taxi_ID'] == users[i])]\n",
    "    temp['Glitch'] = temp.Time_Stamp.shift() > temp.Time_Stamp  \n",
    "    if has_glitch in temp['Glitch'].unique():\n",
    "        print(temp.head())\n",
    "        df_user['Glitch'].loc[(df_user['Taxi_ID'] == users[i])] = True"
   ]
  },
  {
   "cell_type": "code",
   "execution_count": 18,
   "metadata": {},
   "outputs": [
    {
     "data": {
      "text/html": [
       "<div>\n",
       "<style scoped>\n",
       "    .dataframe tbody tr th:only-of-type {\n",
       "        vertical-align: middle;\n",
       "    }\n",
       "\n",
       "    .dataframe tbody tr th {\n",
       "        vertical-align: top;\n",
       "    }\n",
       "\n",
       "    .dataframe thead th {\n",
       "        text-align: right;\n",
       "    }\n",
       "</style>\n",
       "<table border=\"1\" class=\"dataframe\">\n",
       "  <thead>\n",
       "    <tr style=\"text-align: right;\">\n",
       "      <th></th>\n",
       "      <th>Taxi_ID</th>\n",
       "      <th>Time_Stamp</th>\n",
       "      <th>Longitude</th>\n",
       "      <th>Latitude</th>\n",
       "      <th>Glitch</th>\n",
       "    </tr>\n",
       "  </thead>\n",
       "  <tbody>\n",
       "    <tr>\n",
       "      <th>176420</th>\n",
       "      <td>9984</td>\n",
       "      <td>2008-02-04 21:56:28</td>\n",
       "      <td>116.39043</td>\n",
       "      <td>39.94758</td>\n",
       "      <td>False</td>\n",
       "    </tr>\n",
       "    <tr>\n",
       "      <th>176421</th>\n",
       "      <td>9984</td>\n",
       "      <td>2008-02-05 22:06:10</td>\n",
       "      <td>116.29870</td>\n",
       "      <td>39.94303</td>\n",
       "      <td>False</td>\n",
       "    </tr>\n",
       "    <tr>\n",
       "      <th>176422</th>\n",
       "      <td>9984</td>\n",
       "      <td>2008-02-07 11:45:48</td>\n",
       "      <td>115.93919</td>\n",
       "      <td>40.46609</td>\n",
       "      <td>False</td>\n",
       "    </tr>\n",
       "    <tr>\n",
       "      <th>176423</th>\n",
       "      <td>9984</td>\n",
       "      <td>2008-02-08 11:55:29</td>\n",
       "      <td>116.09359</td>\n",
       "      <td>40.51493</td>\n",
       "      <td>False</td>\n",
       "    </tr>\n",
       "  </tbody>\n",
       "</table>\n",
       "</div>"
      ],
      "text/plain": [
       "        Taxi_ID          Time_Stamp  Longitude  Latitude  Glitch\n",
       "176420     9984 2008-02-04 21:56:28  116.39043  39.94758   False\n",
       "176421     9984 2008-02-05 22:06:10  116.29870  39.94303   False\n",
       "176422     9984 2008-02-07 11:45:48  115.93919  40.46609   False\n",
       "176423     9984 2008-02-08 11:55:29  116.09359  40.51493   False"
      ]
     },
     "execution_count": 18,
     "metadata": {},
     "output_type": "execute_result"
    }
   ],
   "source": [
    "temp.head()"
   ]
  },
  {
   "cell_type": "code",
   "execution_count": 19,
   "metadata": {},
   "outputs": [
    {
     "data": {
      "text/html": [
       "<div>\n",
       "<style scoped>\n",
       "    .dataframe tbody tr th:only-of-type {\n",
       "        vertical-align: middle;\n",
       "    }\n",
       "\n",
       "    .dataframe tbody tr th {\n",
       "        vertical-align: top;\n",
       "    }\n",
       "\n",
       "    .dataframe thead th {\n",
       "        text-align: right;\n",
       "    }\n",
       "</style>\n",
       "<table border=\"1\" class=\"dataframe\">\n",
       "  <thead>\n",
       "    <tr style=\"text-align: right;\">\n",
       "      <th></th>\n",
       "      <th>Taxi_ID</th>\n",
       "      <th>Glitch</th>\n",
       "    </tr>\n",
       "  </thead>\n",
       "  <tbody>\n",
       "    <tr>\n",
       "      <th>0</th>\n",
       "      <td>10004</td>\n",
       "      <td>False</td>\n",
       "    </tr>\n",
       "    <tr>\n",
       "      <th>1</th>\n",
       "      <td>10043</td>\n",
       "      <td>False</td>\n",
       "    </tr>\n",
       "    <tr>\n",
       "      <th>2</th>\n",
       "      <td>10057</td>\n",
       "      <td>False</td>\n",
       "    </tr>\n",
       "    <tr>\n",
       "      <th>3</th>\n",
       "      <td>10065</td>\n",
       "      <td>False</td>\n",
       "    </tr>\n",
       "    <tr>\n",
       "      <th>4</th>\n",
       "      <td>101</td>\n",
       "      <td>False</td>\n",
       "    </tr>\n",
       "  </tbody>\n",
       "</table>\n",
       "</div>"
      ],
      "text/plain": [
       "   Taxi_ID  Glitch\n",
       "0    10004   False\n",
       "1    10043   False\n",
       "2    10057   False\n",
       "3    10065   False\n",
       "4      101   False"
      ]
     },
     "execution_count": 19,
     "metadata": {},
     "output_type": "execute_result"
    }
   ],
   "source": [
    "df_user.head()"
   ]
  },
  {
   "cell_type": "code",
   "execution_count": 20,
   "metadata": {},
   "outputs": [
    {
     "data": {
      "text/plain": [
       "array([False])"
      ]
     },
     "execution_count": 20,
     "metadata": {},
     "output_type": "execute_result"
    }
   ],
   "source": [
    "df_user['Glitch'].unique()"
   ]
  },
  {
   "cell_type": "code",
   "execution_count": 21,
   "metadata": {},
   "outputs": [
    {
     "data": {
      "text/plain": [
       "1106"
      ]
     },
     "execution_count": 21,
     "metadata": {},
     "output_type": "execute_result"
    }
   ],
   "source": [
    "len(df_user.loc[(df_user['Glitch'] == False)])"
   ]
  },
  {
   "cell_type": "code",
   "execution_count": 22,
   "metadata": {},
   "outputs": [
    {
     "data": {
      "text/plain": [
       "array([10004, 10043, 10057, ...,  9971,  9979,  9984], dtype=int64)"
      ]
     },
     "execution_count": 22,
     "metadata": {},
     "output_type": "execute_result"
    }
   ],
   "source": [
    "glitch_df = df_user.loc[(df_user['Glitch'] == False)]\n",
    "glitch_df.Taxi_ID.unique()"
   ]
  },
  {
   "cell_type": "code",
   "execution_count": 23,
   "metadata": {},
   "outputs": [
    {
     "name": "stderr",
     "output_type": "stream",
     "text": [
      "C:\\Users\\user\\anaconda3New\\lib\\site-packages\\ipykernel_launcher.py:2: SettingWithCopyWarning: \n",
      "A value is trying to be set on a copy of a slice from a DataFrame.\n",
      "Try using .loc[row_indexer,col_indexer] = value instead\n",
      "\n",
      "See the caveats in the documentation: https://pandas.pydata.org/pandas-docs/stable/user_guide/indexing.html#returning-a-view-versus-a-copy\n",
      "  \n"
     ]
    },
    {
     "data": {
      "text/html": [
       "<div>\n",
       "<style scoped>\n",
       "    .dataframe tbody tr th:only-of-type {\n",
       "        vertical-align: middle;\n",
       "    }\n",
       "\n",
       "    .dataframe tbody tr th {\n",
       "        vertical-align: top;\n",
       "    }\n",
       "\n",
       "    .dataframe thead th {\n",
       "        text-align: right;\n",
       "    }\n",
       "</style>\n",
       "<table border=\"1\" class=\"dataframe\">\n",
       "  <thead>\n",
       "    <tr style=\"text-align: right;\">\n",
       "      <th></th>\n",
       "      <th>Taxi_ID</th>\n",
       "      <th>Time_Stamp</th>\n",
       "      <th>Longitude</th>\n",
       "      <th>Latitude</th>\n",
       "      <th>Glitch</th>\n",
       "    </tr>\n",
       "  </thead>\n",
       "  <tbody>\n",
       "    <tr>\n",
       "      <th>0</th>\n",
       "      <td>10004</td>\n",
       "      <td>2008-02-03 09:21:37</td>\n",
       "      <td>116.58327</td>\n",
       "      <td>40.11703</td>\n",
       "      <td>False</td>\n",
       "    </tr>\n",
       "    <tr>\n",
       "      <th>1</th>\n",
       "      <td>10004</td>\n",
       "      <td>2008-02-04 02:35:46</td>\n",
       "      <td>116.48178</td>\n",
       "      <td>39.98753</td>\n",
       "      <td>False</td>\n",
       "    </tr>\n",
       "    <tr>\n",
       "      <th>2</th>\n",
       "      <td>10004</td>\n",
       "      <td>2008-02-04 19:57:44</td>\n",
       "      <td>116.34258</td>\n",
       "      <td>39.78857</td>\n",
       "      <td>False</td>\n",
       "    </tr>\n",
       "    <tr>\n",
       "      <th>3</th>\n",
       "      <td>10004</td>\n",
       "      <td>2008-02-04 19:57:46</td>\n",
       "      <td>116.34258</td>\n",
       "      <td>39.78857</td>\n",
       "      <td>False</td>\n",
       "    </tr>\n",
       "    <tr>\n",
       "      <th>4</th>\n",
       "      <td>10004</td>\n",
       "      <td>2008-02-05 20:12:11</td>\n",
       "      <td>116.42787</td>\n",
       "      <td>39.94505</td>\n",
       "      <td>False</td>\n",
       "    </tr>\n",
       "    <tr>\n",
       "      <th>5</th>\n",
       "      <td>10004</td>\n",
       "      <td>2008-02-06 20:21:54</td>\n",
       "      <td>116.70098</td>\n",
       "      <td>40.19251</td>\n",
       "      <td>False</td>\n",
       "    </tr>\n",
       "    <tr>\n",
       "      <th>6</th>\n",
       "      <td>10004</td>\n",
       "      <td>2008-02-08 00:34:17</td>\n",
       "      <td>116.70020</td>\n",
       "      <td>40.19260</td>\n",
       "      <td>False</td>\n",
       "    </tr>\n",
       "    <tr>\n",
       "      <th>7</th>\n",
       "      <td>10004</td>\n",
       "      <td>2008-02-08 11:12:17</td>\n",
       "      <td>116.70022</td>\n",
       "      <td>40.19261</td>\n",
       "      <td>False</td>\n",
       "    </tr>\n",
       "  </tbody>\n",
       "</table>\n",
       "</div>"
      ],
      "text/plain": [
       "   Taxi_ID          Time_Stamp  Longitude  Latitude  Glitch\n",
       "0    10004 2008-02-03 09:21:37  116.58327  40.11703   False\n",
       "1    10004 2008-02-04 02:35:46  116.48178  39.98753   False\n",
       "2    10004 2008-02-04 19:57:44  116.34258  39.78857   False\n",
       "3    10004 2008-02-04 19:57:46  116.34258  39.78857   False\n",
       "4    10004 2008-02-05 20:12:11  116.42787  39.94505   False\n",
       "5    10004 2008-02-06 20:21:54  116.70098  40.19251   False\n",
       "6    10004 2008-02-08 00:34:17  116.70020  40.19260   False\n",
       "7    10004 2008-02-08 11:12:17  116.70022  40.19261   False"
      ]
     },
     "execution_count": 23,
     "metadata": {},
     "output_type": "execute_result"
    }
   ],
   "source": [
    "tempX = unique_df.loc[(unique_df['Taxi_ID'] == 10004)]\n",
    "tempX['Glitch'] = tempX.Time_Stamp.shift() > tempX.Time_Stamp \n",
    "tempX.head(20)"
   ]
  },
  {
   "cell_type": "code",
   "execution_count": 24,
   "metadata": {},
   "outputs": [
    {
     "data": {
      "text/html": [
       "<div>\n",
       "<style scoped>\n",
       "    .dataframe tbody tr th:only-of-type {\n",
       "        vertical-align: middle;\n",
       "    }\n",
       "\n",
       "    .dataframe tbody tr th {\n",
       "        vertical-align: top;\n",
       "    }\n",
       "\n",
       "    .dataframe thead th {\n",
       "        text-align: right;\n",
       "    }\n",
       "</style>\n",
       "<table border=\"1\" class=\"dataframe\">\n",
       "  <thead>\n",
       "    <tr style=\"text-align: right;\">\n",
       "      <th></th>\n",
       "      <th>Taxi_ID</th>\n",
       "      <th>Time_Stamp</th>\n",
       "      <th>Longitude</th>\n",
       "      <th>Latitude</th>\n",
       "    </tr>\n",
       "  </thead>\n",
       "  <tbody>\n",
       "    <tr>\n",
       "      <th>0</th>\n",
       "      <td>10004</td>\n",
       "      <td>2008-02-03 09:21:37</td>\n",
       "      <td>116.58327</td>\n",
       "      <td>40.11703</td>\n",
       "    </tr>\n",
       "    <tr>\n",
       "      <th>1</th>\n",
       "      <td>10004</td>\n",
       "      <td>2008-02-04 02:35:46</td>\n",
       "      <td>116.48178</td>\n",
       "      <td>39.98753</td>\n",
       "    </tr>\n",
       "    <tr>\n",
       "      <th>2</th>\n",
       "      <td>10004</td>\n",
       "      <td>2008-02-04 19:57:44</td>\n",
       "      <td>116.34258</td>\n",
       "      <td>39.78857</td>\n",
       "    </tr>\n",
       "    <tr>\n",
       "      <th>3</th>\n",
       "      <td>10004</td>\n",
       "      <td>2008-02-04 19:57:46</td>\n",
       "      <td>116.34258</td>\n",
       "      <td>39.78857</td>\n",
       "    </tr>\n",
       "    <tr>\n",
       "      <th>4</th>\n",
       "      <td>10004</td>\n",
       "      <td>2008-02-05 20:12:11</td>\n",
       "      <td>116.42787</td>\n",
       "      <td>39.94505</td>\n",
       "    </tr>\n",
       "    <tr>\n",
       "      <th>5</th>\n",
       "      <td>10004</td>\n",
       "      <td>2008-02-06 20:21:54</td>\n",
       "      <td>116.70098</td>\n",
       "      <td>40.19251</td>\n",
       "    </tr>\n",
       "    <tr>\n",
       "      <th>6</th>\n",
       "      <td>10004</td>\n",
       "      <td>2008-02-08 00:34:17</td>\n",
       "      <td>116.70020</td>\n",
       "      <td>40.19260</td>\n",
       "    </tr>\n",
       "    <tr>\n",
       "      <th>7</th>\n",
       "      <td>10004</td>\n",
       "      <td>2008-02-08 11:12:17</td>\n",
       "      <td>116.70022</td>\n",
       "      <td>40.19261</td>\n",
       "    </tr>\n",
       "    <tr>\n",
       "      <th>8</th>\n",
       "      <td>10043</td>\n",
       "      <td>2008-02-06 09:27:33</td>\n",
       "      <td>116.41921</td>\n",
       "      <td>39.93990</td>\n",
       "    </tr>\n",
       "    <tr>\n",
       "      <th>9</th>\n",
       "      <td>10043</td>\n",
       "      <td>2008-02-06 09:32:33</td>\n",
       "      <td>116.41921</td>\n",
       "      <td>39.94700</td>\n",
       "    </tr>\n",
       "  </tbody>\n",
       "</table>\n",
       "</div>"
      ],
      "text/plain": [
       "   Taxi_ID          Time_Stamp  Longitude  Latitude\n",
       "0    10004 2008-02-03 09:21:37  116.58327  40.11703\n",
       "1    10004 2008-02-04 02:35:46  116.48178  39.98753\n",
       "2    10004 2008-02-04 19:57:44  116.34258  39.78857\n",
       "3    10004 2008-02-04 19:57:46  116.34258  39.78857\n",
       "4    10004 2008-02-05 20:12:11  116.42787  39.94505\n",
       "5    10004 2008-02-06 20:21:54  116.70098  40.19251\n",
       "6    10004 2008-02-08 00:34:17  116.70020  40.19260\n",
       "7    10004 2008-02-08 11:12:17  116.70022  40.19261\n",
       "8    10043 2008-02-06 09:27:33  116.41921  39.93990\n",
       "9    10043 2008-02-06 09:32:33  116.41921  39.94700"
      ]
     },
     "execution_count": 24,
     "metadata": {},
     "output_type": "execute_result"
    }
   ],
   "source": [
    "unique_df.head(10)"
   ]
  },
  {
   "cell_type": "code",
   "execution_count": 25,
   "metadata": {},
   "outputs": [],
   "source": [
    "speed_df = unique_df"
   ]
  },
  {
   "cell_type": "code",
   "execution_count": 26,
   "metadata": {},
   "outputs": [
    {
     "name": "stderr",
     "output_type": "stream",
     "text": [
      "C:\\Users\\user\\anaconda3New\\lib\\site-packages\\ipykernel_launcher.py:5: SettingWithCopyWarning: \n",
      "A value is trying to be set on a copy of a slice from a DataFrame.\n",
      "Try using .loc[row_indexer,col_indexer] = value instead\n",
      "\n",
      "See the caveats in the documentation: https://pandas.pydata.org/pandas-docs/stable/user_guide/indexing.html#returning-a-view-versus-a-copy\n",
      "  \"\"\"\n",
      "C:\\Users\\user\\anaconda3New\\lib\\site-packages\\ipykernel_launcher.py:6: SettingWithCopyWarning: \n",
      "A value is trying to be set on a copy of a slice from a DataFrame.\n",
      "Try using .loc[row_indexer,col_indexer] = value instead\n",
      "\n",
      "See the caveats in the documentation: https://pandas.pydata.org/pandas-docs/stable/user_guide/indexing.html#returning-a-view-versus-a-copy\n",
      "  \n",
      "C:\\Users\\user\\anaconda3New\\lib\\site-packages\\ipykernel_launcher.py:23: SettingWithCopyWarning: \n",
      "A value is trying to be set on a copy of a slice from a DataFrame.\n",
      "Try using .loc[row_indexer,col_indexer] = value instead\n",
      "\n",
      "See the caveats in the documentation: https://pandas.pydata.org/pandas-docs/stable/user_guide/indexing.html#returning-a-view-versus-a-copy\n",
      "C:\\Users\\user\\anaconda3New\\lib\\site-packages\\ipykernel_launcher.py:24: SettingWithCopyWarning: \n",
      "A value is trying to be set on a copy of a slice from a DataFrame.\n",
      "Try using .loc[row_indexer,col_indexer] = value instead\n",
      "\n",
      "See the caveats in the documentation: https://pandas.pydata.org/pandas-docs/stable/user_guide/indexing.html#returning-a-view-versus-a-copy\n",
      "C:\\Users\\user\\anaconda3New\\lib\\site-packages\\ipykernel_launcher.py:25: SettingWithCopyWarning: \n",
      "A value is trying to be set on a copy of a slice from a DataFrame.\n",
      "Try using .loc[row_indexer,col_indexer] = value instead\n",
      "\n",
      "See the caveats in the documentation: https://pandas.pydata.org/pandas-docs/stable/user_guide/indexing.html#returning-a-view-versus-a-copy\n",
      "C:\\Users\\user\\anaconda3New\\lib\\site-packages\\ipykernel_launcher.py:26: SettingWithCopyWarning: \n",
      "A value is trying to be set on a copy of a slice from a DataFrame.\n",
      "Try using .loc[row_indexer,col_indexer] = value instead\n",
      "\n",
      "See the caveats in the documentation: https://pandas.pydata.org/pandas-docs/stable/user_guide/indexing.html#returning-a-view-versus-a-copy\n"
     ]
    }
   ],
   "source": [
    "vehicles = speed_df.Taxi_ID.unique()\n",
    "avg_speed_df = pd.DataFrame()\n",
    "for n,t in enumerate(vehicles): \n",
    "    temp = speed_df[speed_df[\"Taxi_ID\"]==t]\n",
    "    temp['Time_gap'] = temp.Time_Stamp - temp.Time_Stamp.shift()  \n",
    "    temp['Time_gap'] = temp['Time_gap'].astype('timedelta64[h]')\n",
    "    time = temp[\"Time_gap\"].tolist()\n",
    "    lons = temp[\"Longitude\"].tolist()\n",
    "    lats = temp[\"Latitude\"].tolist()\n",
    "    t_stamp = temp[\"Time_Stamp\"].tolist()\n",
    "    lat_lng =list(zip(lats,lons))\n",
    "    dist = [\"NA\"]\n",
    "    time_dif = [\"NA\"]\n",
    "    speed = [\"NA\"]\n",
    "    for n,p in enumerate(lat_lng): \n",
    "        if not n==0:  \n",
    "            y = hs.haversine(lat_lng[n], lat_lng[n-1])\n",
    "            #y = geodesic(lat_lng[n], lat_lng[n-1])\n",
    "            t = time[n]-time[n-1]\n",
    "            if not t == 0:\n",
    "                speed.append(y/t)\n",
    "            else: speed.append(\"NA\")\n",
    "    temp[\"Time_Stamp\"] = t_stamp \n",
    "    temp['speed'] = speed\n",
    "    temp['speed'] = temp['speed'].fillna(0)\n",
    "    temp['speed'] = temp['speed'].replace('NA',0)\n",
    "    avg_speed_df = avg_speed_df.append(temp)"
   ]
  },
  {
   "cell_type": "code",
   "execution_count": 27,
   "metadata": {},
   "outputs": [
    {
     "data": {
      "text/html": [
       "<div>\n",
       "<style scoped>\n",
       "    .dataframe tbody tr th:only-of-type {\n",
       "        vertical-align: middle;\n",
       "    }\n",
       "\n",
       "    .dataframe tbody tr th {\n",
       "        vertical-align: top;\n",
       "    }\n",
       "\n",
       "    .dataframe thead th {\n",
       "        text-align: right;\n",
       "    }\n",
       "</style>\n",
       "<table border=\"1\" class=\"dataframe\">\n",
       "  <thead>\n",
       "    <tr style=\"text-align: right;\">\n",
       "      <th></th>\n",
       "      <th>Taxi_ID</th>\n",
       "      <th>Time_Stamp</th>\n",
       "      <th>Longitude</th>\n",
       "      <th>Latitude</th>\n",
       "      <th>Time_gap</th>\n",
       "      <th>speed</th>\n",
       "    </tr>\n",
       "  </thead>\n",
       "  <tbody>\n",
       "    <tr>\n",
       "      <th>0</th>\n",
       "      <td>10004</td>\n",
       "      <td>2008-02-03 09:21:37</td>\n",
       "      <td>116.58327</td>\n",
       "      <td>40.11703</td>\n",
       "      <td>NaN</td>\n",
       "      <td>0.000000</td>\n",
       "    </tr>\n",
       "    <tr>\n",
       "      <th>1</th>\n",
       "      <td>10004</td>\n",
       "      <td>2008-02-04 02:35:46</td>\n",
       "      <td>116.48178</td>\n",
       "      <td>39.98753</td>\n",
       "      <td>17.0</td>\n",
       "      <td>0.000000</td>\n",
       "    </tr>\n",
       "    <tr>\n",
       "      <th>2</th>\n",
       "      <td>10004</td>\n",
       "      <td>2008-02-04 19:57:44</td>\n",
       "      <td>116.34258</td>\n",
       "      <td>39.78857</td>\n",
       "      <td>17.0</td>\n",
       "      <td>0.000000</td>\n",
       "    </tr>\n",
       "    <tr>\n",
       "      <th>3</th>\n",
       "      <td>10004</td>\n",
       "      <td>2008-02-04 19:57:46</td>\n",
       "      <td>116.34258</td>\n",
       "      <td>39.78857</td>\n",
       "      <td>0.0</td>\n",
       "      <td>-0.000000</td>\n",
       "    </tr>\n",
       "    <tr>\n",
       "      <th>4</th>\n",
       "      <td>10004</td>\n",
       "      <td>2008-02-05 20:12:11</td>\n",
       "      <td>116.42787</td>\n",
       "      <td>39.94505</td>\n",
       "      <td>24.0</td>\n",
       "      <td>0.785878</td>\n",
       "    </tr>\n",
       "  </tbody>\n",
       "</table>\n",
       "</div>"
      ],
      "text/plain": [
       "   Taxi_ID          Time_Stamp  Longitude  Latitude  Time_gap     speed\n",
       "0    10004 2008-02-03 09:21:37  116.58327  40.11703       NaN  0.000000\n",
       "1    10004 2008-02-04 02:35:46  116.48178  39.98753      17.0  0.000000\n",
       "2    10004 2008-02-04 19:57:44  116.34258  39.78857      17.0  0.000000\n",
       "3    10004 2008-02-04 19:57:46  116.34258  39.78857       0.0 -0.000000\n",
       "4    10004 2008-02-05 20:12:11  116.42787  39.94505      24.0  0.785878"
      ]
     },
     "execution_count": 27,
     "metadata": {},
     "output_type": "execute_result"
    }
   ],
   "source": [
    "avg_speed_df.head()"
   ]
  },
  {
   "cell_type": "code",
   "execution_count": 28,
   "metadata": {},
   "outputs": [
    {
     "data": {
      "text/html": [
       "<div>\n",
       "<style scoped>\n",
       "    .dataframe tbody tr th:only-of-type {\n",
       "        vertical-align: middle;\n",
       "    }\n",
       "\n",
       "    .dataframe tbody tr th {\n",
       "        vertical-align: top;\n",
       "    }\n",
       "\n",
       "    .dataframe thead th {\n",
       "        text-align: right;\n",
       "    }\n",
       "</style>\n",
       "<table border=\"1\" class=\"dataframe\">\n",
       "  <thead>\n",
       "    <tr style=\"text-align: right;\">\n",
       "      <th></th>\n",
       "      <th>Taxi_ID</th>\n",
       "      <th>Time_Stamp</th>\n",
       "      <th>Longitude</th>\n",
       "      <th>Latitude</th>\n",
       "      <th>Time_gap</th>\n",
       "      <th>speed</th>\n",
       "    </tr>\n",
       "  </thead>\n",
       "  <tbody>\n",
       "    <tr>\n",
       "      <th>176419</th>\n",
       "      <td>9979</td>\n",
       "      <td>2008-02-08 00:25:28</td>\n",
       "      <td>116.38899</td>\n",
       "      <td>39.97050</td>\n",
       "      <td>0.0</td>\n",
       "      <td>0.000000</td>\n",
       "    </tr>\n",
       "    <tr>\n",
       "      <th>176420</th>\n",
       "      <td>9984</td>\n",
       "      <td>2008-02-04 21:56:28</td>\n",
       "      <td>116.39043</td>\n",
       "      <td>39.94758</td>\n",
       "      <td>NaN</td>\n",
       "      <td>0.000000</td>\n",
       "    </tr>\n",
       "    <tr>\n",
       "      <th>176421</th>\n",
       "      <td>9984</td>\n",
       "      <td>2008-02-05 22:06:10</td>\n",
       "      <td>116.29870</td>\n",
       "      <td>39.94303</td>\n",
       "      <td>24.0</td>\n",
       "      <td>0.000000</td>\n",
       "    </tr>\n",
       "    <tr>\n",
       "      <th>176422</th>\n",
       "      <td>9984</td>\n",
       "      <td>2008-02-07 11:45:48</td>\n",
       "      <td>115.93919</td>\n",
       "      <td>40.46609</td>\n",
       "      <td>37.0</td>\n",
       "      <td>5.052927</td>\n",
       "    </tr>\n",
       "    <tr>\n",
       "      <th>176423</th>\n",
       "      <td>9984</td>\n",
       "      <td>2008-02-08 11:55:29</td>\n",
       "      <td>116.09359</td>\n",
       "      <td>40.51493</td>\n",
       "      <td>24.0</td>\n",
       "      <td>-1.087790</td>\n",
       "    </tr>\n",
       "  </tbody>\n",
       "</table>\n",
       "</div>"
      ],
      "text/plain": [
       "        Taxi_ID          Time_Stamp  Longitude  Latitude  Time_gap     speed\n",
       "176419     9979 2008-02-08 00:25:28  116.38899  39.97050       0.0  0.000000\n",
       "176420     9984 2008-02-04 21:56:28  116.39043  39.94758       NaN  0.000000\n",
       "176421     9984 2008-02-05 22:06:10  116.29870  39.94303      24.0  0.000000\n",
       "176422     9984 2008-02-07 11:45:48  115.93919  40.46609      37.0  5.052927\n",
       "176423     9984 2008-02-08 11:55:29  116.09359  40.51493      24.0 -1.087790"
      ]
     },
     "execution_count": 28,
     "metadata": {},
     "output_type": "execute_result"
    }
   ],
   "source": [
    "avg_speed_df.tail()"
   ]
  },
  {
   "cell_type": "code",
   "execution_count": 29,
   "metadata": {},
   "outputs": [
    {
     "data": {
      "text/plain": [
       "1106"
      ]
     },
     "execution_count": 29,
     "metadata": {},
     "output_type": "execute_result"
    }
   ],
   "source": [
    "len(avg_speed_df.Taxi_ID.unique())"
   ]
  },
  {
   "cell_type": "code",
   "execution_count": 30,
   "metadata": {},
   "outputs": [
    {
     "data": {
      "text/html": [
       "<div>\n",
       "<style scoped>\n",
       "    .dataframe tbody tr th:only-of-type {\n",
       "        vertical-align: middle;\n",
       "    }\n",
       "\n",
       "    .dataframe tbody tr th {\n",
       "        vertical-align: top;\n",
       "    }\n",
       "\n",
       "    .dataframe thead th {\n",
       "        text-align: right;\n",
       "    }\n",
       "</style>\n",
       "<table border=\"1\" class=\"dataframe\">\n",
       "  <thead>\n",
       "    <tr style=\"text-align: right;\">\n",
       "      <th></th>\n",
       "      <th>Taxi_ID</th>\n",
       "      <th>Time_Stamp</th>\n",
       "      <th>Longitude</th>\n",
       "      <th>Latitude</th>\n",
       "      <th>Time_gap</th>\n",
       "      <th>speed</th>\n",
       "    </tr>\n",
       "  </thead>\n",
       "  <tbody>\n",
       "    <tr>\n",
       "      <th>0</th>\n",
       "      <td>10004</td>\n",
       "      <td>2008-02-03 09:21:37</td>\n",
       "      <td>116.58327</td>\n",
       "      <td>40.11703</td>\n",
       "      <td>NaN</td>\n",
       "      <td>0.000000</td>\n",
       "    </tr>\n",
       "    <tr>\n",
       "      <th>1</th>\n",
       "      <td>10004</td>\n",
       "      <td>2008-02-04 02:35:46</td>\n",
       "      <td>116.48178</td>\n",
       "      <td>39.98753</td>\n",
       "      <td>17.0</td>\n",
       "      <td>0.000000</td>\n",
       "    </tr>\n",
       "    <tr>\n",
       "      <th>2</th>\n",
       "      <td>10004</td>\n",
       "      <td>2008-02-04 19:57:44</td>\n",
       "      <td>116.34258</td>\n",
       "      <td>39.78857</td>\n",
       "      <td>17.0</td>\n",
       "      <td>0.000000</td>\n",
       "    </tr>\n",
       "    <tr>\n",
       "      <th>3</th>\n",
       "      <td>10004</td>\n",
       "      <td>2008-02-04 19:57:46</td>\n",
       "      <td>116.34258</td>\n",
       "      <td>39.78857</td>\n",
       "      <td>0.0</td>\n",
       "      <td>-0.000000</td>\n",
       "    </tr>\n",
       "    <tr>\n",
       "      <th>4</th>\n",
       "      <td>10004</td>\n",
       "      <td>2008-02-05 20:12:11</td>\n",
       "      <td>116.42787</td>\n",
       "      <td>39.94505</td>\n",
       "      <td>24.0</td>\n",
       "      <td>0.785878</td>\n",
       "    </tr>\n",
       "    <tr>\n",
       "      <th>...</th>\n",
       "      <td>...</td>\n",
       "      <td>...</td>\n",
       "      <td>...</td>\n",
       "      <td>...</td>\n",
       "      <td>...</td>\n",
       "      <td>...</td>\n",
       "    </tr>\n",
       "    <tr>\n",
       "      <th>176419</th>\n",
       "      <td>9979</td>\n",
       "      <td>2008-02-08 00:25:28</td>\n",
       "      <td>116.38899</td>\n",
       "      <td>39.97050</td>\n",
       "      <td>0.0</td>\n",
       "      <td>0.000000</td>\n",
       "    </tr>\n",
       "    <tr>\n",
       "      <th>176420</th>\n",
       "      <td>9984</td>\n",
       "      <td>2008-02-04 21:56:28</td>\n",
       "      <td>116.39043</td>\n",
       "      <td>39.94758</td>\n",
       "      <td>NaN</td>\n",
       "      <td>0.000000</td>\n",
       "    </tr>\n",
       "    <tr>\n",
       "      <th>176421</th>\n",
       "      <td>9984</td>\n",
       "      <td>2008-02-05 22:06:10</td>\n",
       "      <td>116.29870</td>\n",
       "      <td>39.94303</td>\n",
       "      <td>24.0</td>\n",
       "      <td>0.000000</td>\n",
       "    </tr>\n",
       "    <tr>\n",
       "      <th>176422</th>\n",
       "      <td>9984</td>\n",
       "      <td>2008-02-07 11:45:48</td>\n",
       "      <td>115.93919</td>\n",
       "      <td>40.46609</td>\n",
       "      <td>37.0</td>\n",
       "      <td>5.052927</td>\n",
       "    </tr>\n",
       "    <tr>\n",
       "      <th>176423</th>\n",
       "      <td>9984</td>\n",
       "      <td>2008-02-08 11:55:29</td>\n",
       "      <td>116.09359</td>\n",
       "      <td>40.51493</td>\n",
       "      <td>24.0</td>\n",
       "      <td>-1.087790</td>\n",
       "    </tr>\n",
       "  </tbody>\n",
       "</table>\n",
       "<p>158226 rows × 6 columns</p>\n",
       "</div>"
      ],
      "text/plain": [
       "        Taxi_ID          Time_Stamp  Longitude  Latitude  Time_gap     speed\n",
       "0         10004 2008-02-03 09:21:37  116.58327  40.11703       NaN  0.000000\n",
       "1         10004 2008-02-04 02:35:46  116.48178  39.98753      17.0  0.000000\n",
       "2         10004 2008-02-04 19:57:44  116.34258  39.78857      17.0  0.000000\n",
       "3         10004 2008-02-04 19:57:46  116.34258  39.78857       0.0 -0.000000\n",
       "4         10004 2008-02-05 20:12:11  116.42787  39.94505      24.0  0.785878\n",
       "...         ...                 ...        ...       ...       ...       ...\n",
       "176419     9979 2008-02-08 00:25:28  116.38899  39.97050       0.0  0.000000\n",
       "176420     9984 2008-02-04 21:56:28  116.39043  39.94758       NaN  0.000000\n",
       "176421     9984 2008-02-05 22:06:10  116.29870  39.94303      24.0  0.000000\n",
       "176422     9984 2008-02-07 11:45:48  115.93919  40.46609      37.0  5.052927\n",
       "176423     9984 2008-02-08 11:55:29  116.09359  40.51493      24.0 -1.087790\n",
       "\n",
       "[158226 rows x 6 columns]"
      ]
     },
     "execution_count": 30,
     "metadata": {},
     "output_type": "execute_result"
    }
   ],
   "source": [
    "avg_speed_df"
   ]
  },
  {
   "cell_type": "code",
   "execution_count": 31,
   "metadata": {},
   "outputs": [
    {
     "name": "stderr",
     "output_type": "stream",
     "text": [
      "C:\\Users\\user\\anaconda3New\\lib\\site-packages\\ipykernel_launcher.py:2: SettingWithCopyWarning: \n",
      "A value is trying to be set on a copy of a slice from a DataFrame.\n",
      "Try using .loc[row_indexer,col_indexer] = value instead\n",
      "\n",
      "See the caveats in the documentation: https://pandas.pydata.org/pandas-docs/stable/user_guide/indexing.html#returning-a-view-versus-a-copy\n",
      "  \n"
     ]
    },
    {
     "data": {
      "text/html": [
       "<div>\n",
       "<style scoped>\n",
       "    .dataframe tbody tr th:only-of-type {\n",
       "        vertical-align: middle;\n",
       "    }\n",
       "\n",
       "    .dataframe tbody tr th {\n",
       "        vertical-align: top;\n",
       "    }\n",
       "\n",
       "    .dataframe thead th {\n",
       "        text-align: right;\n",
       "    }\n",
       "</style>\n",
       "<table border=\"1\" class=\"dataframe\">\n",
       "  <thead>\n",
       "    <tr style=\"text-align: right;\">\n",
       "      <th></th>\n",
       "      <th>Taxi_ID</th>\n",
       "      <th>Longitude</th>\n",
       "      <th>Latitude</th>\n",
       "      <th>Time_gap</th>\n",
       "      <th>speed</th>\n",
       "    </tr>\n",
       "  </thead>\n",
       "  <tbody>\n",
       "    <tr>\n",
       "      <th>count</th>\n",
       "      <td>81.000000</td>\n",
       "      <td>81.000000</td>\n",
       "      <td>81.000000</td>\n",
       "      <td>81.000000</td>\n",
       "      <td>81.000000</td>\n",
       "    </tr>\n",
       "    <tr>\n",
       "      <th>mean</th>\n",
       "      <td>5616.950617</td>\n",
       "      <td>81.079797</td>\n",
       "      <td>27.195475</td>\n",
       "      <td>8.506173</td>\n",
       "      <td>1976.481089</td>\n",
       "    </tr>\n",
       "    <tr>\n",
       "      <th>std</th>\n",
       "      <td>2686.961243</td>\n",
       "      <td>53.287203</td>\n",
       "      <td>17.959464</td>\n",
       "      <td>12.167707</td>\n",
       "      <td>2810.738428</td>\n",
       "    </tr>\n",
       "    <tr>\n",
       "      <th>min</th>\n",
       "      <td>316.000000</td>\n",
       "      <td>0.000000</td>\n",
       "      <td>0.000000</td>\n",
       "      <td>0.000000</td>\n",
       "      <td>124.682432</td>\n",
       "    </tr>\n",
       "    <tr>\n",
       "      <th>25%</th>\n",
       "      <td>3190.000000</td>\n",
       "      <td>0.000000</td>\n",
       "      <td>0.000000</td>\n",
       "      <td>1.000000</td>\n",
       "      <td>359.413029</td>\n",
       "    </tr>\n",
       "    <tr>\n",
       "      <th>50%</th>\n",
       "      <td>5957.000000</td>\n",
       "      <td>116.339330</td>\n",
       "      <td>39.738320</td>\n",
       "      <td>5.000000</td>\n",
       "      <td>861.170603</td>\n",
       "    </tr>\n",
       "    <tr>\n",
       "      <th>75%</th>\n",
       "      <td>7872.000000</td>\n",
       "      <td>116.584120</td>\n",
       "      <td>39.979080</td>\n",
       "      <td>9.000000</td>\n",
       "      <td>2354.674167</td>\n",
       "    </tr>\n",
       "    <tr>\n",
       "      <th>max</th>\n",
       "      <td>9635.000000</td>\n",
       "      <td>120.268670</td>\n",
       "      <td>44.769230</td>\n",
       "      <td>64.000000</td>\n",
       "      <td>12235.452063</td>\n",
       "    </tr>\n",
       "  </tbody>\n",
       "</table>\n",
       "</div>"
      ],
      "text/plain": [
       "           Taxi_ID   Longitude   Latitude   Time_gap         speed\n",
       "count    81.000000   81.000000  81.000000  81.000000     81.000000\n",
       "mean   5616.950617   81.079797  27.195475   8.506173   1976.481089\n",
       "std    2686.961243   53.287203  17.959464  12.167707   2810.738428\n",
       "min     316.000000    0.000000   0.000000   0.000000    124.682432\n",
       "25%    3190.000000    0.000000   0.000000   1.000000    359.413029\n",
       "50%    5957.000000  116.339330  39.738320   5.000000    861.170603\n",
       "75%    7872.000000  116.584120  39.979080   9.000000   2354.674167\n",
       "max    9635.000000  120.268670  44.769230  64.000000  12235.452063"
      ]
     },
     "execution_count": 31,
     "metadata": {},
     "output_type": "execute_result"
    }
   ],
   "source": [
    "high_speed_df = avg_speed_df.loc[(avg_speed_df['speed'] > 120) | (avg_speed_df['speed'] < -120)]\n",
    "high_speed_df['speed'] = high_speed_df['speed'].abs()\n",
    "high_speed_df.describe()"
   ]
  },
  {
   "cell_type": "code",
   "execution_count": 32,
   "metadata": {},
   "outputs": [
    {
     "name": "stdout",
     "output_type": "stream",
     "text": [
      "<class 'pandas.core.frame.DataFrame'>\n",
      "Int64Index: 81 entries, 17883 to 169609\n",
      "Data columns (total 6 columns):\n",
      " #   Column      Non-Null Count  Dtype         \n",
      "---  ------      --------------  -----         \n",
      " 0   Taxi_ID     81 non-null     int64         \n",
      " 1   Time_Stamp  81 non-null     datetime64[ns]\n",
      " 2   Longitude   81 non-null     float64       \n",
      " 3   Latitude    81 non-null     float64       \n",
      " 4   Time_gap    81 non-null     float64       \n",
      " 5   speed       81 non-null     float64       \n",
      "dtypes: datetime64[ns](1), float64(4), int64(1)\n",
      "memory usage: 4.4 KB\n"
     ]
    }
   ],
   "source": [
    "high_speed_df.info()"
   ]
  },
  {
   "cell_type": "code",
   "execution_count": 33,
   "metadata": {},
   "outputs": [
    {
     "data": {
      "text/plain": [
       "47"
      ]
     },
     "execution_count": 33,
     "metadata": {},
     "output_type": "execute_result"
    }
   ],
   "source": [
    "len(high_speed_df.Taxi_ID.unique())"
   ]
  },
  {
   "cell_type": "code",
   "execution_count": 34,
   "metadata": {},
   "outputs": [],
   "source": [
    "d1 = high_speed_df.drop(['Time_gap','speed'], axis=1)\n",
    "d2 = avg_speed_df.drop(['Time_gap','speed'], axis=1)"
   ]
  },
  {
   "cell_type": "code",
   "execution_count": 35,
   "metadata": {
    "scrolled": true
   },
   "outputs": [
    {
     "name": "stdout",
     "output_type": "stream",
     "text": [
      "<class 'pandas.core.frame.DataFrame'>\n",
      "Int64Index: 81 entries, 17883 to 169609\n",
      "Data columns (total 4 columns):\n",
      " #   Column      Non-Null Count  Dtype         \n",
      "---  ------      --------------  -----         \n",
      " 0   Taxi_ID     81 non-null     int64         \n",
      " 1   Time_Stamp  81 non-null     datetime64[ns]\n",
      " 2   Longitude   81 non-null     float64       \n",
      " 3   Latitude    81 non-null     float64       \n",
      "dtypes: datetime64[ns](1), float64(2), int64(1)\n",
      "memory usage: 3.2 KB\n"
     ]
    }
   ],
   "source": [
    "d1 = d1\n",
    "d1.info()"
   ]
  },
  {
   "cell_type": "code",
   "execution_count": 36,
   "metadata": {},
   "outputs": [
    {
     "data": {
      "text/html": [
       "<div>\n",
       "<style scoped>\n",
       "    .dataframe tbody tr th:only-of-type {\n",
       "        vertical-align: middle;\n",
       "    }\n",
       "\n",
       "    .dataframe tbody tr th {\n",
       "        vertical-align: top;\n",
       "    }\n",
       "\n",
       "    .dataframe thead th {\n",
       "        text-align: right;\n",
       "    }\n",
       "</style>\n",
       "<table border=\"1\" class=\"dataframe\">\n",
       "  <thead>\n",
       "    <tr style=\"text-align: right;\">\n",
       "      <th></th>\n",
       "      <th>Taxi_ID</th>\n",
       "      <th>Time_Stamp</th>\n",
       "      <th>Longitude</th>\n",
       "      <th>Latitude</th>\n",
       "    </tr>\n",
       "  </thead>\n",
       "  <tbody>\n",
       "    <tr>\n",
       "      <th>17883</th>\n",
       "      <td>1735</td>\n",
       "      <td>2008-02-04 13:22:05</td>\n",
       "      <td>0.00000</td>\n",
       "      <td>0.00000</td>\n",
       "    </tr>\n",
       "    <tr>\n",
       "      <th>20505</th>\n",
       "      <td>1846</td>\n",
       "      <td>2008-02-04 05:57:11</td>\n",
       "      <td>116.32317</td>\n",
       "      <td>39.92357</td>\n",
       "    </tr>\n",
       "    <tr>\n",
       "      <th>20517</th>\n",
       "      <td>1846</td>\n",
       "      <td>2008-02-04 11:09:18</td>\n",
       "      <td>0.00000</td>\n",
       "      <td>0.00000</td>\n",
       "    </tr>\n",
       "    <tr>\n",
       "      <th>20526</th>\n",
       "      <td>1846</td>\n",
       "      <td>2008-02-04 23:30:46</td>\n",
       "      <td>116.32472</td>\n",
       "      <td>39.92300</td>\n",
       "    </tr>\n",
       "    <tr>\n",
       "      <th>24101</th>\n",
       "      <td>1903</td>\n",
       "      <td>2008-02-02 18:47:21</td>\n",
       "      <td>110.88076</td>\n",
       "      <td>39.89635</td>\n",
       "    </tr>\n",
       "  </tbody>\n",
       "</table>\n",
       "</div>"
      ],
      "text/plain": [
       "       Taxi_ID          Time_Stamp  Longitude  Latitude\n",
       "17883     1735 2008-02-04 13:22:05    0.00000   0.00000\n",
       "20505     1846 2008-02-04 05:57:11  116.32317  39.92357\n",
       "20517     1846 2008-02-04 11:09:18    0.00000   0.00000\n",
       "20526     1846 2008-02-04 23:30:46  116.32472  39.92300\n",
       "24101     1903 2008-02-02 18:47:21  110.88076  39.89635"
      ]
     },
     "execution_count": 36,
     "metadata": {},
     "output_type": "execute_result"
    }
   ],
   "source": [
    "d1.head()"
   ]
  },
  {
   "cell_type": "code",
   "execution_count": 37,
   "metadata": {},
   "outputs": [
    {
     "name": "stdout",
     "output_type": "stream",
     "text": [
      "<class 'pandas.core.frame.DataFrame'>\n",
      "Int64Index: 158226 entries, 0 to 176423\n",
      "Data columns (total 4 columns):\n",
      " #   Column      Non-Null Count   Dtype         \n",
      "---  ------      --------------   -----         \n",
      " 0   Taxi_ID     158226 non-null  int64         \n",
      " 1   Time_Stamp  158226 non-null  datetime64[ns]\n",
      " 2   Longitude   158226 non-null  float64       \n",
      " 3   Latitude    158226 non-null  float64       \n",
      "dtypes: datetime64[ns](1), float64(2), int64(1)\n",
      "memory usage: 6.0 MB\n"
     ]
    }
   ],
   "source": [
    "d2.info()"
   ]
  },
  {
   "cell_type": "code",
   "execution_count": 38,
   "metadata": {},
   "outputs": [
    {
     "data": {
      "text/html": [
       "<div>\n",
       "<style scoped>\n",
       "    .dataframe tbody tr th:only-of-type {\n",
       "        vertical-align: middle;\n",
       "    }\n",
       "\n",
       "    .dataframe tbody tr th {\n",
       "        vertical-align: top;\n",
       "    }\n",
       "\n",
       "    .dataframe thead th {\n",
       "        text-align: right;\n",
       "    }\n",
       "</style>\n",
       "<table border=\"1\" class=\"dataframe\">\n",
       "  <thead>\n",
       "    <tr style=\"text-align: right;\">\n",
       "      <th></th>\n",
       "      <th>Taxi_ID</th>\n",
       "      <th>Time_Stamp</th>\n",
       "      <th>Longitude</th>\n",
       "      <th>Latitude</th>\n",
       "    </tr>\n",
       "  </thead>\n",
       "  <tbody>\n",
       "    <tr>\n",
       "      <th>0</th>\n",
       "      <td>10004</td>\n",
       "      <td>2008-02-03 09:21:37</td>\n",
       "      <td>116.58327</td>\n",
       "      <td>40.11703</td>\n",
       "    </tr>\n",
       "    <tr>\n",
       "      <th>1</th>\n",
       "      <td>10004</td>\n",
       "      <td>2008-02-04 02:35:46</td>\n",
       "      <td>116.48178</td>\n",
       "      <td>39.98753</td>\n",
       "    </tr>\n",
       "    <tr>\n",
       "      <th>2</th>\n",
       "      <td>10004</td>\n",
       "      <td>2008-02-04 19:57:44</td>\n",
       "      <td>116.34258</td>\n",
       "      <td>39.78857</td>\n",
       "    </tr>\n",
       "    <tr>\n",
       "      <th>3</th>\n",
       "      <td>10004</td>\n",
       "      <td>2008-02-04 19:57:46</td>\n",
       "      <td>116.34258</td>\n",
       "      <td>39.78857</td>\n",
       "    </tr>\n",
       "    <tr>\n",
       "      <th>4</th>\n",
       "      <td>10004</td>\n",
       "      <td>2008-02-05 20:12:11</td>\n",
       "      <td>116.42787</td>\n",
       "      <td>39.94505</td>\n",
       "    </tr>\n",
       "  </tbody>\n",
       "</table>\n",
       "</div>"
      ],
      "text/plain": [
       "   Taxi_ID          Time_Stamp  Longitude  Latitude\n",
       "0    10004 2008-02-03 09:21:37  116.58327  40.11703\n",
       "1    10004 2008-02-04 02:35:46  116.48178  39.98753\n",
       "2    10004 2008-02-04 19:57:44  116.34258  39.78857\n",
       "3    10004 2008-02-04 19:57:46  116.34258  39.78857\n",
       "4    10004 2008-02-05 20:12:11  116.42787  39.94505"
      ]
     },
     "execution_count": 38,
     "metadata": {},
     "output_type": "execute_result"
    }
   ],
   "source": [
    "d2.head()"
   ]
  },
  {
   "cell_type": "code",
   "execution_count": 39,
   "metadata": {},
   "outputs": [
    {
     "data": {
      "text/html": [
       "<div>\n",
       "<style scoped>\n",
       "    .dataframe tbody tr th:only-of-type {\n",
       "        vertical-align: middle;\n",
       "    }\n",
       "\n",
       "    .dataframe tbody tr th {\n",
       "        vertical-align: top;\n",
       "    }\n",
       "\n",
       "    .dataframe thead th {\n",
       "        text-align: right;\n",
       "    }\n",
       "</style>\n",
       "<table border=\"1\" class=\"dataframe\">\n",
       "  <thead>\n",
       "    <tr style=\"text-align: right;\">\n",
       "      <th></th>\n",
       "      <th>Taxi_ID</th>\n",
       "      <th>Time_Stamp</th>\n",
       "      <th>Longitude</th>\n",
       "      <th>Latitude</th>\n",
       "    </tr>\n",
       "  </thead>\n",
       "  <tbody>\n",
       "    <tr>\n",
       "      <th>0</th>\n",
       "      <td>10004</td>\n",
       "      <td>2008-02-03 09:21:37</td>\n",
       "      <td>116.58327</td>\n",
       "      <td>40.11703</td>\n",
       "    </tr>\n",
       "    <tr>\n",
       "      <th>1</th>\n",
       "      <td>10004</td>\n",
       "      <td>2008-02-04 02:35:46</td>\n",
       "      <td>116.48178</td>\n",
       "      <td>39.98753</td>\n",
       "    </tr>\n",
       "    <tr>\n",
       "      <th>2</th>\n",
       "      <td>10004</td>\n",
       "      <td>2008-02-04 19:57:44</td>\n",
       "      <td>116.34258</td>\n",
       "      <td>39.78857</td>\n",
       "    </tr>\n",
       "    <tr>\n",
       "      <th>3</th>\n",
       "      <td>10004</td>\n",
       "      <td>2008-02-04 19:57:46</td>\n",
       "      <td>116.34258</td>\n",
       "      <td>39.78857</td>\n",
       "    </tr>\n",
       "    <tr>\n",
       "      <th>4</th>\n",
       "      <td>10004</td>\n",
       "      <td>2008-02-05 20:12:11</td>\n",
       "      <td>116.42787</td>\n",
       "      <td>39.94505</td>\n",
       "    </tr>\n",
       "    <tr>\n",
       "      <th>...</th>\n",
       "      <td>...</td>\n",
       "      <td>...</td>\n",
       "      <td>...</td>\n",
       "      <td>...</td>\n",
       "    </tr>\n",
       "    <tr>\n",
       "      <th>176419</th>\n",
       "      <td>9979</td>\n",
       "      <td>2008-02-08 00:25:28</td>\n",
       "      <td>116.38899</td>\n",
       "      <td>39.97050</td>\n",
       "    </tr>\n",
       "    <tr>\n",
       "      <th>176420</th>\n",
       "      <td>9984</td>\n",
       "      <td>2008-02-04 21:56:28</td>\n",
       "      <td>116.39043</td>\n",
       "      <td>39.94758</td>\n",
       "    </tr>\n",
       "    <tr>\n",
       "      <th>176421</th>\n",
       "      <td>9984</td>\n",
       "      <td>2008-02-05 22:06:10</td>\n",
       "      <td>116.29870</td>\n",
       "      <td>39.94303</td>\n",
       "    </tr>\n",
       "    <tr>\n",
       "      <th>176422</th>\n",
       "      <td>9984</td>\n",
       "      <td>2008-02-07 11:45:48</td>\n",
       "      <td>115.93919</td>\n",
       "      <td>40.46609</td>\n",
       "    </tr>\n",
       "    <tr>\n",
       "      <th>176423</th>\n",
       "      <td>9984</td>\n",
       "      <td>2008-02-08 11:55:29</td>\n",
       "      <td>116.09359</td>\n",
       "      <td>40.51493</td>\n",
       "    </tr>\n",
       "  </tbody>\n",
       "</table>\n",
       "<p>158145 rows × 4 columns</p>\n",
       "</div>"
      ],
      "text/plain": [
       "        Taxi_ID          Time_Stamp  Longitude  Latitude\n",
       "0         10004 2008-02-03 09:21:37  116.58327  40.11703\n",
       "1         10004 2008-02-04 02:35:46  116.48178  39.98753\n",
       "2         10004 2008-02-04 19:57:44  116.34258  39.78857\n",
       "3         10004 2008-02-04 19:57:46  116.34258  39.78857\n",
       "4         10004 2008-02-05 20:12:11  116.42787  39.94505\n",
       "...         ...                 ...        ...       ...\n",
       "176419     9979 2008-02-08 00:25:28  116.38899  39.97050\n",
       "176420     9984 2008-02-04 21:56:28  116.39043  39.94758\n",
       "176421     9984 2008-02-05 22:06:10  116.29870  39.94303\n",
       "176422     9984 2008-02-07 11:45:48  115.93919  40.46609\n",
       "176423     9984 2008-02-08 11:55:29  116.09359  40.51493\n",
       "\n",
       "[158145 rows x 4 columns]"
      ]
     },
     "execution_count": 39,
     "metadata": {},
     "output_type": "execute_result"
    }
   ],
   "source": [
    "df = pd.concat([d1, d2])\n",
    "df.drop_duplicates(keep=False)"
   ]
  },
  {
   "cell_type": "code",
   "execution_count": 40,
   "metadata": {},
   "outputs": [
    {
     "name": "stdout",
     "output_type": "stream",
     "text": [
      "<class 'pandas.core.frame.DataFrame'>\n",
      "Int64Index: 158307 entries, 17883 to 176423\n",
      "Data columns (total 4 columns):\n",
      " #   Column      Non-Null Count   Dtype         \n",
      "---  ------      --------------   -----         \n",
      " 0   Taxi_ID     158307 non-null  int64         \n",
      " 1   Time_Stamp  158307 non-null  datetime64[ns]\n",
      " 2   Longitude   158307 non-null  float64       \n",
      " 3   Latitude    158307 non-null  float64       \n",
      "dtypes: datetime64[ns](1), float64(2), int64(1)\n",
      "memory usage: 6.0 MB\n"
     ]
    }
   ],
   "source": [
    "df.info()"
   ]
  },
  {
   "cell_type": "code",
   "execution_count": 41,
   "metadata": {},
   "outputs": [
    {
     "data": {
      "text/html": [
       "<div>\n",
       "<style scoped>\n",
       "    .dataframe tbody tr th:only-of-type {\n",
       "        vertical-align: middle;\n",
       "    }\n",
       "\n",
       "    .dataframe tbody tr th {\n",
       "        vertical-align: top;\n",
       "    }\n",
       "\n",
       "    .dataframe thead th {\n",
       "        text-align: right;\n",
       "    }\n",
       "</style>\n",
       "<table border=\"1\" class=\"dataframe\">\n",
       "  <thead>\n",
       "    <tr style=\"text-align: right;\">\n",
       "      <th></th>\n",
       "      <th>Taxi_ID</th>\n",
       "      <th>Longitude</th>\n",
       "      <th>Latitude</th>\n",
       "    </tr>\n",
       "  </thead>\n",
       "  <tbody>\n",
       "    <tr>\n",
       "      <th>count</th>\n",
       "      <td>158307.000000</td>\n",
       "      <td>158307.000000</td>\n",
       "      <td>158307.000000</td>\n",
       "    </tr>\n",
       "    <tr>\n",
       "      <th>mean</th>\n",
       "      <td>4627.114550</td>\n",
       "      <td>110.718994</td>\n",
       "      <td>37.983630</td>\n",
       "    </tr>\n",
       "    <tr>\n",
       "      <th>std</th>\n",
       "      <td>2895.539417</td>\n",
       "      <td>25.131636</td>\n",
       "      <td>8.624737</td>\n",
       "    </tr>\n",
       "    <tr>\n",
       "      <th>min</th>\n",
       "      <td>7.000000</td>\n",
       "      <td>0.000000</td>\n",
       "      <td>0.000000</td>\n",
       "    </tr>\n",
       "    <tr>\n",
       "      <th>25%</th>\n",
       "      <td>2131.000000</td>\n",
       "      <td>116.326080</td>\n",
       "      <td>39.881820</td>\n",
       "    </tr>\n",
       "    <tr>\n",
       "      <th>50%</th>\n",
       "      <td>4307.000000</td>\n",
       "      <td>116.397100</td>\n",
       "      <td>39.919890</td>\n",
       "    </tr>\n",
       "    <tr>\n",
       "      <th>75%</th>\n",
       "      <td>7231.000000</td>\n",
       "      <td>116.457245</td>\n",
       "      <td>39.970620</td>\n",
       "    </tr>\n",
       "    <tr>\n",
       "      <th>max</th>\n",
       "      <td>10355.000000</td>\n",
       "      <td>133.319950</td>\n",
       "      <td>48.277500</td>\n",
       "    </tr>\n",
       "  </tbody>\n",
       "</table>\n",
       "</div>"
      ],
      "text/plain": [
       "             Taxi_ID      Longitude       Latitude\n",
       "count  158307.000000  158307.000000  158307.000000\n",
       "mean     4627.114550     110.718994      37.983630\n",
       "std      2895.539417      25.131636       8.624737\n",
       "min         7.000000       0.000000       0.000000\n",
       "25%      2131.000000     116.326080      39.881820\n",
       "50%      4307.000000     116.397100      39.919890\n",
       "75%      7231.000000     116.457245      39.970620\n",
       "max     10355.000000     133.319950      48.277500"
      ]
     },
     "execution_count": 41,
     "metadata": {},
     "output_type": "execute_result"
    }
   ],
   "source": [
    "df.describe()"
   ]
  },
  {
   "cell_type": "code",
   "execution_count": 42,
   "metadata": {},
   "outputs": [
    {
     "data": {
      "text/plain": [
       "1106"
      ]
     },
     "execution_count": 42,
     "metadata": {},
     "output_type": "execute_result"
    }
   ],
   "source": [
    "len(df.Taxi_ID.unique())"
   ]
  }
 ],
 "metadata": {
  "kernelspec": {
   "display_name": "Python 3",
   "language": "python",
   "name": "python3"
  },
  "language_info": {
   "codemirror_mode": {
    "name": "ipython",
    "version": 3
   },
   "file_extension": ".py",
   "mimetype": "text/x-python",
   "name": "python",
   "nbconvert_exporter": "python",
   "pygments_lexer": "ipython3",
   "version": "3.7.6"
  }
 },
 "nbformat": 4,
 "nbformat_minor": 4
}
